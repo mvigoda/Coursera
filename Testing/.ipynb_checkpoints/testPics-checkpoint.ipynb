{
 "cells": [
  {
   "cell_type": "markdown",
   "id": "3228638b-6093-4b88-b00e-0044174c9d60",
   "metadata": {},
   "source": [
    "<img src=\"vangog.jpg\" />\n",
    "\n",
    "![Van Gogh](Pics_for_Fidelity/vangog.jpg)\n",
    "\n",
    "<img src=\"AccountStacking.png\" width=\"800\" />\n",
    "\n",
    "![](AccountStacking.png)\n",
    "\n",
    "<img src=\"AccountStacking.png\" width=\"800\" >\n",
    "\n",
    "<img src=\"AccountStacking.png\" width= 800 >\n",
    "\n",
    "\n",
    "<img src=\"AccountStacking.png\" >\n",
    "\n",
    "\n",
    "\n",
    "\n"
   ]
  },
  {
   "cell_type": "code",
   "execution_count": null,
   "id": "9c064a53-8054-4189-8a14-236cff9afb22",
   "metadata": {},
   "outputs": [],
   "source": [
    "<img src=\"Pics_for_Fidelity/vangog.jpg\" />\n",
    "\n",
    "![Van Gogh](Pics_for_Fidelity/vangog.jpg)\n",
    "\n",
    "<img src=\"AccountStacking.png\" width=\"800\" />\n",
    "\n",
    "![](AccountStacking.png)\n",
    "\n",
    "<img src=\"AccountStacking.png\" width=\"800\" >\n",
    "\n",
    "<img src=\"AccountStacking.png\" width= 800 >\n",
    "\n",
    "\n",
    "<img src=\"AccountStacking.png\" >\n",
    "\n",
    "\n",
    "\n",
    "\n",
    "\n"
   ]
  }
 ],
 "metadata": {
  "kernelspec": {
   "display_name": "Python 3 (ipykernel)",
   "language": "python",
   "name": "python3"
  },
  "language_info": {
   "codemirror_mode": {
    "name": "ipython",
    "version": 3
   },
   "file_extension": ".py",
   "mimetype": "text/x-python",
   "name": "python",
   "nbconvert_exporter": "python",
   "pygments_lexer": "ipython3",
   "version": "3.8.10"
  }
 },
 "nbformat": 4,
 "nbformat_minor": 5
}
