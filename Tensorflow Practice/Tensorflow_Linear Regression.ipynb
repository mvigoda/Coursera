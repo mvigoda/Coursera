{
 "cells": [
  {
   "cell_type": "markdown",
   "metadata": {},
   "source": [
    "### Complete program\n",
    "\n",
    "The completed trainable linear regression model is shown here:"
   ]
  },
  {
   "cell_type": "code",
   "execution_count": 3,
   "metadata": {},
   "outputs": [],
   "source": [
    "import tensorflow as tf\n",
    "\n",
    "# Model parameters\n",
    "W = tf.Variable([.3], dtype=tf.float32)\n",
    "b = tf.Variable([-.3], dtype=tf.float32)\n",
    "# Model input and output\n",
    "x = tf.placeholder(tf.float32)\n",
    "linear_model = W * x + b\n",
    "y = tf.placeholder(tf.float32)\n",
    "\n",
    "# loss\n",
    "loss = tf.reduce_sum(tf.square(linear_model - y)) # sum of the squares\n",
    "# optimizer\n",
    "optimizer = tf.train.GradientDescentOptimizer(0.01)\n",
    "train = optimizer.minimize(loss)\n",
    "\n",
    "# training data\n",
    "x_train = [1, 2, 3, 4]\n",
    "y_train = [0, -1, -2, -3]\n",
    "# training loop\n",
    "init = tf.global_variables_initializer()\n",
    "sess = tf.Session()\n",
    "sess.run(init) # reset values to wrong\n"
   ]
  },
  {
   "cell_type": "markdown",
   "metadata": {},
   "source": [
    "It is important to realize init is a handle to the TensorFlow sub-graph that initializes all the global variables. Until we call sess.run, the variables are uninitialized.\n",
    "\n"
   ]
  },
  {
   "cell_type": "code",
   "execution_count": 4,
   "metadata": {},
   "outputs": [
    {
     "name": "stdout",
     "output_type": "stream",
     "text": [
      "W: [-0.9999969] b: [ 0.99999082] loss: 5.69997e-11\n"
     ]
    }
   ],
   "source": [
    "for i in range(1000):\n",
    "  sess.run(train, {x: x_train, y: y_train})\n",
    "# evaluate training accuracy\n",
    "curr_W, curr_b, curr_loss = sess.run([W, b, loss], {x: x_train, y: y_train})\n",
    "print(\"W: %s b: %s loss: %s\"%(curr_W, curr_b, curr_loss))\n",
    "\n"
   ]
  },
  {
   "cell_type": "markdown",
   "metadata": {},
   "source": [
    "        plt.plot(np.squeeze(costs))\n",
    "        plt.ylabel('cost')\n",
    "        plt.xlabel('iterations (per tens)')\n",
    "        plt.title(\"Learning rate =\" + str(learning_rate))\n",
    "        plt.show()\n",
    "\n"
   ]
  },
  {
   "cell_type": "code",
   "execution_count": 2,
   "metadata": {},
   "outputs": [
    {
     "name": "stdout",
     "output_type": "stream",
     "text": [
      "INFO:tensorflow:Using default config.\n",
      "WARNING:tensorflow:Using temporary folder as model directory: /var/folders/66/7txfr8_j2wn5skfx0jbnm3300000gn/T/tmpigj8zsen\n",
      "INFO:tensorflow:Using config: {'_model_dir': '/var/folders/66/7txfr8_j2wn5skfx0jbnm3300000gn/T/tmpigj8zsen', '_tf_random_seed': 1, '_save_summary_steps': 100, '_save_checkpoints_secs': 600, '_save_checkpoints_steps': None, '_session_config': None, '_keep_checkpoint_max': 5, '_keep_checkpoint_every_n_hours': 10000, '_log_step_count_steps': 100}\n",
      "INFO:tensorflow:Create CheckpointSaverHook.\n",
      "INFO:tensorflow:Saving checkpoints for 1 into /var/folders/66/7txfr8_j2wn5skfx0jbnm3300000gn/T/tmpigj8zsen/model.ckpt.\n",
      "INFO:tensorflow:loss = 6.0, step = 1\n",
      "INFO:tensorflow:global_step/sec: 355.89\n",
      "INFO:tensorflow:loss = 0.0771752, step = 101 (0.288 sec)\n",
      "INFO:tensorflow:global_step/sec: 546.609\n",
      "INFO:tensorflow:loss = 0.011034, step = 201 (0.177 sec)\n",
      "INFO:tensorflow:global_step/sec: 657.705\n",
      "INFO:tensorflow:loss = 0.0016455, step = 301 (0.153 sec)\n",
      "INFO:tensorflow:global_step/sec: 567.74\n",
      "INFO:tensorflow:loss = 0.00123852, step = 401 (0.176 sec)\n",
      "INFO:tensorflow:global_step/sec: 802.059\n",
      "INFO:tensorflow:loss = 8.26734e-05, step = 501 (0.123 sec)\n",
      "INFO:tensorflow:global_step/sec: 896.934\n",
      "INFO:tensorflow:loss = 1.42108e-05, step = 601 (0.112 sec)\n",
      "INFO:tensorflow:global_step/sec: 986.359\n",
      "INFO:tensorflow:loss = 9.53221e-07, step = 701 (0.101 sec)\n",
      "INFO:tensorflow:global_step/sec: 1084.14\n",
      "INFO:tensorflow:loss = 2.65648e-07, step = 801 (0.092 sec)\n",
      "INFO:tensorflow:global_step/sec: 1075.48\n",
      "INFO:tensorflow:loss = 4.83242e-08, step = 901 (0.093 sec)\n",
      "INFO:tensorflow:Saving checkpoints for 1000 into /var/folders/66/7txfr8_j2wn5skfx0jbnm3300000gn/T/tmpigj8zsen/model.ckpt.\n",
      "INFO:tensorflow:Loss for final step: 3.76835e-09.\n",
      "INFO:tensorflow:Starting evaluation at 2017-09-07-17:29:13\n",
      "INFO:tensorflow:Restoring parameters from /var/folders/66/7txfr8_j2wn5skfx0jbnm3300000gn/T/tmpigj8zsen/model.ckpt-1000\n",
      "INFO:tensorflow:Finished evaluation at 2017-09-07-17:29:14\n",
      "INFO:tensorflow:Saving dict for global step 1000: average_loss = 1.86216e-09, global_step = 1000, loss = 7.44865e-09\n",
      "INFO:tensorflow:Starting evaluation at 2017-09-07-17:29:14\n",
      "INFO:tensorflow:Restoring parameters from /var/folders/66/7txfr8_j2wn5skfx0jbnm3300000gn/T/tmpigj8zsen/model.ckpt-1000\n",
      "INFO:tensorflow:Finished evaluation at 2017-09-07-17:29:15\n",
      "INFO:tensorflow:Saving dict for global step 1000: average_loss = 0.00252852, global_step = 1000, loss = 0.0101141\n",
      "train metrics: {'average_loss': 1.862163e-09, 'loss': 7.4486519e-09, 'global_step': 1000}\n",
      "eval metrics: {'average_loss': 0.0025285175, 'loss': 0.01011407, 'global_step': 1000}\n"
     ]
    }
   ],
   "source": [
    "import tensorflow as tf\n",
    "# NumPy is often used to load, manipulate and preprocess data.\n",
    "import numpy as np\n",
    "\n",
    "# Declare list of features. We only have one numeric feature. There are many\n",
    "# other types of columns that are more complicated and useful.\n",
    "feature_columns = [tf.feature_column.numeric_column(\"x\", shape=[1])]\n",
    "\n",
    "# An estimator is the front end to invoke training (fitting) and evaluation\n",
    "# (inference). There are many predefined types like linear regression,\n",
    "# linear classification, and many neural network classifiers and regressors.\n",
    "# The following code provides an estimator that does linear regression.\n",
    "estimator = tf.estimator.LinearRegressor(feature_columns=feature_columns)\n",
    "\n",
    "# TensorFlow provides many helper methods to read and set up data sets.\n",
    "# Here we use two data sets: one for training and one for evaluation\n",
    "# We have to tell the function how many batches\n",
    "# of data (num_epochs) we want and how big each batch should be.\n",
    "x_train = np.array([1., 2., 3., 4.])\n",
    "y_train = np.array([0., -1., -2., -3.])\n",
    "x_eval = np.array([2., 5., 8., 1.])\n",
    "y_eval = np.array([-1.01, -4.1, -7, 0.])\n",
    "input_fn = tf.estimator.inputs.numpy_input_fn(\n",
    "    {\"x\": x_train}, y_train, batch_size=4, num_epochs=None, shuffle=True)\n",
    "train_input_fn = tf.estimator.inputs.numpy_input_fn(\n",
    "    {\"x\": x_train}, y_train, batch_size=4, num_epochs=1000, shuffle=False)\n",
    "eval_input_fn = tf.estimator.inputs.numpy_input_fn(\n",
    "    {\"x\": x_eval}, y_eval, batch_size=4, num_epochs=1000, shuffle=False)\n",
    "\n",
    "# We can invoke 1000 training steps by invoking the  method and passing the\n",
    "# training data set.\n",
    "estimator.train(input_fn=input_fn, steps=1000)\n",
    "\n",
    "# Here we evaluate how well our model did.\n",
    "train_metrics = estimator.evaluate(input_fn=train_input_fn)\n",
    "eval_metrics = estimator.evaluate(input_fn=eval_input_fn)\n",
    "print(\"train metrics: %r\"% train_metrics)\n",
    "print(\"eval metrics: %r\"% eval_metrics)"
   ]
  },
  {
   "cell_type": "markdown",
   "metadata": {
    "collapsed": true
   },
   "source": [
    "**Constants** are initialized when you call tf.constant, and their value can never change. \n",
    "\n",
    "By contrast, **variables** are not initialized when you call tf.Variable. To initialize all the variables in a TensorFlow program, you must explicitly call a special operation as follows:\n",
    "\n",
    "\n",
    "\n"
   ]
  },
  {
   "cell_type": "markdown",
   "metadata": {},
   "source": [
    "As it stands, this graph is not especially interesting because it always produces a constant result. A graph can be parameterized to accept external inputs, known as **placeholders**. A placeholder is a promise to provide a value later.\n",
    "\n"
   ]
  },
  {
   "cell_type": "code",
   "execution_count": null,
   "metadata": {
    "collapsed": true
   },
   "outputs": [],
   "source": []
  }
 ],
 "metadata": {
  "kernelspec": {
   "display_name": "Python 3",
   "language": "python",
   "name": "python3"
  },
  "language_info": {
   "codemirror_mode": {
    "name": "ipython",
    "version": 3
   },
   "file_extension": ".py",
   "mimetype": "text/x-python",
   "name": "python",
   "nbconvert_exporter": "python",
   "pygments_lexer": "ipython3",
   "version": "3.6.1"
  }
 },
 "nbformat": 4,
 "nbformat_minor": 2
}
